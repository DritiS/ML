{
 "cells": [
  {
   "cell_type": "code",
   "execution_count": 1,
   "id": "5c959f0c",
   "metadata": {},
   "outputs": [],
   "source": [
    "import numpy as np\n",
    "from sklearn import datasets\n",
    "from sklearn.model_selection import train_test_split\n",
    "from sklearn.preprocessing import StandardScaler\n",
    "from sklearn.svm import SVC\n",
    "from sklearn.metrics import accuracy_score"
   ]
  },
  {
   "cell_type": "code",
   "execution_count": 2,
   "id": "c0df8f16",
   "metadata": {},
   "outputs": [
    {
     "data": {
      "text/html": [
       "<div>\n",
       "<style scoped>\n",
       "    .dataframe tbody tr th:only-of-type {\n",
       "        vertical-align: middle;\n",
       "    }\n",
       "\n",
       "    .dataframe tbody tr th {\n",
       "        vertical-align: top;\n",
       "    }\n",
       "\n",
       "    .dataframe thead th {\n",
       "        text-align: right;\n",
       "    }\n",
       "</style>\n",
       "<table border=\"1\" class=\"dataframe\">\n",
       "  <thead>\n",
       "    <tr style=\"text-align: right;\">\n",
       "      <th></th>\n",
       "      <th>Tipster</th>\n",
       "      <th>Date</th>\n",
       "      <th>Track</th>\n",
       "      <th>Horse</th>\n",
       "      <th>Bet Type</th>\n",
       "      <th>Odds</th>\n",
       "      <th>Result</th>\n",
       "      <th>TipsterActive</th>\n",
       "    </tr>\n",
       "  </thead>\n",
       "  <tbody>\n",
       "    <tr>\n",
       "      <th>0</th>\n",
       "      <td>Tipster A</td>\n",
       "      <td>24-07-2015</td>\n",
       "      <td>Ascot</td>\n",
       "      <td>Fredricka</td>\n",
       "      <td>Win</td>\n",
       "      <td>8.00</td>\n",
       "      <td>Lose</td>\n",
       "      <td>True</td>\n",
       "    </tr>\n",
       "    <tr>\n",
       "      <th>1</th>\n",
       "      <td>Tipster A</td>\n",
       "      <td>24-07-2015</td>\n",
       "      <td>Thirsk</td>\n",
       "      <td>Spend A Penny</td>\n",
       "      <td>Win</td>\n",
       "      <td>4.50</td>\n",
       "      <td>Lose</td>\n",
       "      <td>True</td>\n",
       "    </tr>\n",
       "    <tr>\n",
       "      <th>2</th>\n",
       "      <td>Tipster A</td>\n",
       "      <td>24-07-2015</td>\n",
       "      <td>York</td>\n",
       "      <td>Straightothepoint</td>\n",
       "      <td>Win</td>\n",
       "      <td>7.00</td>\n",
       "      <td>Lose</td>\n",
       "      <td>True</td>\n",
       "    </tr>\n",
       "    <tr>\n",
       "      <th>3</th>\n",
       "      <td>Tipster A</td>\n",
       "      <td>24-07-2015</td>\n",
       "      <td>Newmarket</td>\n",
       "      <td>Miss Inga Sock</td>\n",
       "      <td>Win</td>\n",
       "      <td>5.00</td>\n",
       "      <td>Lose</td>\n",
       "      <td>True</td>\n",
       "    </tr>\n",
       "    <tr>\n",
       "      <th>4</th>\n",
       "      <td>Tipster A</td>\n",
       "      <td>25-07-2015</td>\n",
       "      <td>Ascot</td>\n",
       "      <td>Peril</td>\n",
       "      <td>Win</td>\n",
       "      <td>4.33</td>\n",
       "      <td>Win</td>\n",
       "      <td>True</td>\n",
       "    </tr>\n",
       "  </tbody>\n",
       "</table>\n",
       "</div>"
      ],
      "text/plain": [
       "     Tipster        Date      Track              Horse Bet Type  Odds Result  \\\n",
       "0  Tipster A  24-07-2015      Ascot          Fredricka      Win  8.00   Lose   \n",
       "1  Tipster A  24-07-2015     Thirsk      Spend A Penny      Win  4.50   Lose   \n",
       "2  Tipster A  24-07-2015       York  Straightothepoint      Win  7.00   Lose   \n",
       "3  Tipster A  24-07-2015  Newmarket     Miss Inga Sock      Win  5.00   Lose   \n",
       "4  Tipster A  25-07-2015      Ascot              Peril      Win  4.33    Win   \n",
       "\n",
       "   TipsterActive  \n",
       "0           True  \n",
       "1           True  \n",
       "2           True  \n",
       "3           True  \n",
       "4           True  "
      ]
     },
     "execution_count": 2,
     "metadata": {},
     "output_type": "execute_result"
    }
   ],
   "source": [
    "import pandas as pd\n",
    "df=pd.read_csv(\"Horse_Win.csv\")\n",
    "df.head()"
   ]
  },
  {
   "cell_type": "code",
   "execution_count": 3,
   "id": "ffcef049",
   "metadata": {},
   "outputs": [
    {
     "data": {
      "text/plain": [
       "Tipster          0\n",
       "Date             0\n",
       "Track            0\n",
       "Horse            0\n",
       "Bet Type         0\n",
       "Odds             0\n",
       "Result           0\n",
       "TipsterActive    0\n",
       "dtype: int64"
      ]
     },
     "execution_count": 3,
     "metadata": {},
     "output_type": "execute_result"
    }
   ],
   "source": [
    "df.isna().sum()"
   ]
  },
  {
   "cell_type": "code",
   "execution_count": null,
   "id": "2b60070c",
   "metadata": {},
   "outputs": [],
   "source": []
  }
 ],
 "metadata": {
  "kernelspec": {
   "display_name": "Python 3 (ipykernel)",
   "language": "python",
   "name": "python3"
  },
  "language_info": {
   "codemirror_mode": {
    "name": "ipython",
    "version": 3
   },
   "file_extension": ".py",
   "mimetype": "text/x-python",
   "name": "python",
   "nbconvert_exporter": "python",
   "pygments_lexer": "ipython3",
   "version": "3.9.13"
  }
 },
 "nbformat": 4,
 "nbformat_minor": 5
}
