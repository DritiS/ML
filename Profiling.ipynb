{
 "cells": [
  {
   "cell_type": "code",
   "execution_count": 1,
   "id": "36b7b915",
   "metadata": {},
   "outputs": [
    {
     "name": "stdout",
     "output_type": "stream",
     "text": [
      "Collecting ydata_profiling"
     ]
    },
    {
     "name": "stderr",
     "output_type": "stream",
     "text": [
      "ERROR: Cannot uninstall 'llvmlite'. It is a distutils installed project and thus we cannot accurately determine which files belong to it which would lead to only a partial uninstall.\n"
     ]
    },
    {
     "name": "stdout",
     "output_type": "stream",
     "text": [
      "\n",
      "  Using cached ydata_profiling-4.6.4-py2.py3-none-any.whl (357 kB)\n",
      "Requirement already satisfied: matplotlib<3.9,>=3.2 in c:\\users\\driti singhania\\anaconda3\\lib\\site-packages (from ydata_profiling) (3.5.2)\n",
      "Requirement already satisfied: tqdm<5,>=4.48.2 in c:\\users\\driti singhania\\anaconda3\\lib\\site-packages (from ydata_profiling) (4.64.1)\n",
      "Collecting dacite>=1.8\n",
      "  Using cached dacite-1.8.1-py3-none-any.whl (14 kB)\n",
      "Requirement already satisfied: scipy<1.12,>=1.4.1 in c:\\users\\driti singhania\\anaconda3\\lib\\site-packages (from ydata_profiling) (1.9.1)\n",
      "Collecting typeguard<5,>=4.1.2\n",
      "  Using cached typeguard-4.1.5-py3-none-any.whl (34 kB)\n",
      "Collecting wordcloud>=1.9.1\n",
      "  Using cached wordcloud-1.9.3-cp39-cp39-win_amd64.whl (300 kB)\n",
      "Requirement already satisfied: htmlmin==0.1.12 in c:\\users\\driti singhania\\anaconda3\\lib\\site-packages (from ydata_profiling) (0.1.12)\n",
      "Collecting imagehash==4.3.1\n",
      "  Using cached ImageHash-4.3.1-py2.py3-none-any.whl (296 kB)\n",
      "Collecting pydantic>=2\n",
      "  Using cached pydantic-2.6.0-py3-none-any.whl (394 kB)\n",
      "Requirement already satisfied: jinja2<3.2,>=2.11.1 in c:\\users\\driti singhania\\anaconda3\\lib\\site-packages (from ydata_profiling) (2.11.3)\n",
      "Requirement already satisfied: statsmodels<1,>=0.13.2 in c:\\users\\driti singhania\\anaconda3\\lib\\site-packages (from ydata_profiling) (0.13.2)\n",
      "Requirement already satisfied: multimethod<2,>=1.4 in c:\\users\\driti singhania\\anaconda3\\lib\\site-packages (from ydata_profiling) (1.10)\n",
      "Collecting phik<0.13,>=0.11.1\n",
      "  Using cached phik-0.12.4-cp39-cp39-win_amd64.whl (666 kB)\n",
      "Requirement already satisfied: PyYAML<6.1,>=5.0.0 in c:\\users\\driti singhania\\anaconda3\\lib\\site-packages (from ydata_profiling) (6.0)\n",
      "Collecting numba<0.59.0,>=0.56.0\n",
      "  Using cached numba-0.58.1-cp39-cp39-win_amd64.whl (2.6 MB)\n",
      "Requirement already satisfied: requests<3,>=2.24.0 in c:\\users\\driti singhania\\anaconda3\\lib\\site-packages (from ydata_profiling) (2.28.1)\n",
      "Requirement already satisfied: seaborn<0.13,>=0.10.1 in c:\\users\\driti singhania\\anaconda3\\lib\\site-packages (from ydata_profiling) (0.11.2)\n",
      "Collecting visions[type_image_path]==0.7.5\n",
      "  Using cached visions-0.7.5-py3-none-any.whl (102 kB)\n",
      "Requirement already satisfied: pandas!=1.4.0,<3,>1.1 in c:\\users\\driti singhania\\anaconda3\\lib\\site-packages (from ydata_profiling) (1.4.4)\n",
      "Requirement already satisfied: numpy<1.26,>=1.16.0 in c:\\users\\driti singhania\\anaconda3\\lib\\site-packages (from ydata_profiling) (1.24.4)\n",
      "Requirement already satisfied: PyWavelets in c:\\users\\driti singhania\\anaconda3\\lib\\site-packages (from imagehash==4.3.1->ydata_profiling) (1.3.0)\n",
      "Requirement already satisfied: pillow in c:\\users\\driti singhania\\anaconda3\\lib\\site-packages (from imagehash==4.3.1->ydata_profiling) (9.2.0)\n",
      "Requirement already satisfied: tangled-up-in-unicode>=0.0.4 in c:\\users\\driti singhania\\anaconda3\\lib\\site-packages (from visions[type_image_path]==0.7.5->ydata_profiling) (0.2.0)\n",
      "Requirement already satisfied: networkx>=2.4 in c:\\users\\driti singhania\\anaconda3\\lib\\site-packages (from visions[type_image_path]==0.7.5->ydata_profiling) (2.8.4)\n",
      "Requirement already satisfied: attrs>=19.3.0 in c:\\users\\driti singhania\\anaconda3\\lib\\site-packages (from visions[type_image_path]==0.7.5->ydata_profiling) (21.4.0)\n",
      "Requirement already satisfied: MarkupSafe>=0.23 in c:\\users\\driti singhania\\anaconda3\\lib\\site-packages (from jinja2<3.2,>=2.11.1->ydata_profiling) (2.0.1)\n",
      "Requirement already satisfied: pyparsing>=2.2.1 in c:\\users\\driti singhania\\anaconda3\\lib\\site-packages (from matplotlib<3.9,>=3.2->ydata_profiling) (3.0.9)\n",
      "Requirement already satisfied: cycler>=0.10 in c:\\users\\driti singhania\\anaconda3\\lib\\site-packages (from matplotlib<3.9,>=3.2->ydata_profiling) (0.11.0)\n",
      "Requirement already satisfied: python-dateutil>=2.7 in c:\\users\\driti singhania\\anaconda3\\lib\\site-packages (from matplotlib<3.9,>=3.2->ydata_profiling) (2.8.2)\n",
      "Requirement already satisfied: kiwisolver>=1.0.1 in c:\\users\\driti singhania\\anaconda3\\lib\\site-packages (from matplotlib<3.9,>=3.2->ydata_profiling) (1.4.2)\n",
      "Requirement already satisfied: fonttools>=4.22.0 in c:\\users\\driti singhania\\anaconda3\\lib\\site-packages (from matplotlib<3.9,>=3.2->ydata_profiling) (4.25.0)\n",
      "Requirement already satisfied: packaging>=20.0 in c:\\users\\driti singhania\\anaconda3\\lib\\site-packages (from matplotlib<3.9,>=3.2->ydata_profiling) (21.3)\n",
      "Collecting llvmlite<0.42,>=0.41.0dev0\n",
      "  Using cached llvmlite-0.41.1-cp39-cp39-win_amd64.whl (28.1 MB)\n",
      "Requirement already satisfied: pytz>=2020.1 in c:\\users\\driti singhania\\anaconda3\\lib\\site-packages (from pandas!=1.4.0,<3,>1.1->ydata_profiling) (2022.1)\n",
      "Requirement already satisfied: joblib>=0.14.1 in c:\\users\\driti singhania\\anaconda3\\lib\\site-packages (from phik<0.13,>=0.11.1->ydata_profiling) (1.1.0)\n",
      "Requirement already satisfied: pydantic-core==2.16.1 in c:\\users\\driti singhania\\anaconda3\\lib\\site-packages (from pydantic>=2->ydata_profiling) (2.16.1)\n",
      "Requirement already satisfied: typing-extensions>=4.6.1 in c:\\users\\driti singhania\\anaconda3\\lib\\site-packages (from pydantic>=2->ydata_profiling) (4.8.0)\n",
      "Collecting annotated-types>=0.4.0\n",
      "  Using cached annotated_types-0.6.0-py3-none-any.whl (12 kB)\n",
      "Requirement already satisfied: certifi>=2017.4.17 in c:\\users\\driti singhania\\anaconda3\\lib\\site-packages (from requests<3,>=2.24.0->ydata_profiling) (2022.9.14)\n",
      "Requirement already satisfied: idna<4,>=2.5 in c:\\users\\driti singhania\\anaconda3\\lib\\site-packages (from requests<3,>=2.24.0->ydata_profiling) (3.3)\n",
      "Requirement already satisfied: urllib3<1.27,>=1.21.1 in c:\\users\\driti singhania\\anaconda3\\lib\\site-packages (from requests<3,>=2.24.0->ydata_profiling) (1.26.11)\n",
      "Requirement already satisfied: charset-normalizer<3,>=2 in c:\\users\\driti singhania\\anaconda3\\lib\\site-packages (from requests<3,>=2.24.0->ydata_profiling) (2.0.4)\n",
      "Requirement already satisfied: patsy>=0.5.2 in c:\\users\\driti singhania\\anaconda3\\lib\\site-packages (from statsmodels<1,>=0.13.2->ydata_profiling) (0.5.2)\n",
      "Requirement already satisfied: colorama in c:\\users\\driti singhania\\anaconda3\\lib\\site-packages (from tqdm<5,>=4.48.2->ydata_profiling) (0.4.5)\n",
      "Requirement already satisfied: importlib-metadata>=3.6 in c:\\users\\driti singhania\\anaconda3\\lib\\site-packages (from typeguard<5,>=4.1.2->ydata_profiling) (4.11.3)\n",
      "Requirement already satisfied: zipp>=0.5 in c:\\users\\driti singhania\\anaconda3\\lib\\site-packages (from importlib-metadata>=3.6->typeguard<5,>=4.1.2->ydata_profiling) (3.8.0)\n",
      "Requirement already satisfied: six in c:\\users\\driti singhania\\anaconda3\\lib\\site-packages (from patsy>=0.5.2->statsmodels<1,>=0.13.2->ydata_profiling) (1.16.0)\n",
      "Installing collected packages: llvmlite, dacite, annotated-types, typeguard, pydantic, numba, imagehash, wordcloud, visions, phik, ydata_profiling\n",
      "  Attempting uninstall: llvmlite\n",
      "    Found existing installation: llvmlite 0.38.0\n"
     ]
    }
   ],
   "source": [
    "!pip install ydata_profiling"
   ]
  },
  {
   "cell_type": "code",
   "execution_count": 2,
   "id": "6fb9d7db",
   "metadata": {},
   "outputs": [
    {
     "ename": "ModuleNotFoundError",
     "evalue": "No module named 'ydata_profiling'",
     "output_type": "error",
     "traceback": [
      "\u001b[1;31m---------------------------------------------------------------------------\u001b[0m",
      "\u001b[1;31mModuleNotFoundError\u001b[0m                       Traceback (most recent call last)",
      "\u001b[1;32m~\\AppData\\Local\\Temp\\ipykernel_42700\\435474077.py\u001b[0m in \u001b[0;36m<module>\u001b[1;34m\u001b[0m\n\u001b[0;32m      1\u001b[0m \u001b[1;32mimport\u001b[0m \u001b[0mpandas\u001b[0m \u001b[1;32mas\u001b[0m \u001b[0mpd\u001b[0m\u001b[1;33m\u001b[0m\u001b[1;33m\u001b[0m\u001b[0m\n\u001b[0;32m      2\u001b[0m \u001b[1;33m\u001b[0m\u001b[0m\n\u001b[1;32m----> 3\u001b[1;33m \u001b[1;32mfrom\u001b[0m \u001b[0mydata_profiling\u001b[0m \u001b[1;32mimport\u001b[0m \u001b[0mProfileReport\u001b[0m\u001b[1;33m\u001b[0m\u001b[1;33m\u001b[0m\u001b[0m\n\u001b[0m\u001b[0;32m      4\u001b[0m \u001b[0mdf\u001b[0m \u001b[1;33m=\u001b[0m \u001b[0mpd\u001b[0m\u001b[1;33m.\u001b[0m\u001b[0mread_csv\u001b[0m\u001b[1;33m(\u001b[0m\u001b[1;34m\"C:\\\\Users\\\\DRITI SINGHANIA\\\\Desktop\\\\Semester 4\\\\ML\\\\Datasets\\\\csv_result-por (2).csv\"\u001b[0m\u001b[1;33m)\u001b[0m\u001b[1;33m\u001b[0m\u001b[1;33m\u001b[0m\u001b[0m\n\u001b[0;32m      5\u001b[0m \u001b[0mprofile\u001b[0m \u001b[1;33m=\u001b[0m \u001b[0mProfileReport\u001b[0m\u001b[1;33m(\u001b[0m\u001b[0mdf\u001b[0m\u001b[1;33m,\u001b[0m \u001b[0mtitle\u001b[0m\u001b[1;33m=\u001b[0m\u001b[1;34m'Pandas Profiling Report'\u001b[0m\u001b[1;33m,\u001b[0m \u001b[0mexplorative\u001b[0m\u001b[1;33m=\u001b[0m\u001b[1;32mTrue\u001b[0m\u001b[1;33m)\u001b[0m\u001b[1;33m\u001b[0m\u001b[1;33m\u001b[0m\u001b[0m\n",
      "\u001b[1;31mModuleNotFoundError\u001b[0m: No module named 'ydata_profiling'"
     ]
    }
   ],
   "source": [
    "import pandas as pd\n",
    "\n",
    "from ydata_profiling import ProfileReport\n",
    "df = pd.read_csv(\"C:\\\\Users\\\\DRITI SINGHANIA\\\\Desktop\\\\Semester 4\\\\ML\\\\Datasets\\\\csv_result-por (2).csv\")\n",
    "profile = ProfileReport(df, title='Pandas Profiling Report', explorative=True)\n",
    "profile.to_file(\"output.html\")"
   ]
  },
  {
   "cell_type": "code",
   "execution_count": null,
   "id": "7b160fbf",
   "metadata": {},
   "outputs": [],
   "source": []
  }
 ],
 "metadata": {
  "kernelspec": {
   "display_name": "Python 3 (ipykernel)",
   "language": "python",
   "name": "python3"
  },
  "language_info": {
   "codemirror_mode": {
    "name": "ipython",
    "version": 3
   },
   "file_extension": ".py",
   "mimetype": "text/x-python",
   "name": "python",
   "nbconvert_exporter": "python",
   "pygments_lexer": "ipython3",
   "version": "3.9.13"
  }
 },
 "nbformat": 4,
 "nbformat_minor": 5
}
